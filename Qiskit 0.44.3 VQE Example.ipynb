{
 "cells": [
  {
   "cell_type": "code",
   "execution_count": null,
   "id": "theoretical-performance",
   "metadata": {},
   "outputs": [],
   "source": [
    "# General imports\n",
    "import qiskit \n",
    "from qiskit_nature.second_q.formats import MoleculeInfo\n",
    "from qiskit_nature.units import DistanceUnit\n",
    "\n",
    "from qiskit_nature.second_q.drivers import PySCFDriver\n",
    "from qiskit_nature.second_q.mappers import JordanWignerMapper\n",
    "from qiskit.algorithms.minimum_eigensolvers import NumPyMinimumEigensolver\n",
    "from qiskit_nature.second_q.algorithms import GroundStateEigensolver\n",
    "\n",
    "from qiskit_nature.second_q.circuit.library import UCCSD, HartreeFock\n",
    "from qiskit.primitives import Estimator\n",
    "from qiskit.algorithms.optimizers import COBYLA\n",
    "from qiskit.algorithms.minimum_eigensolvers import VQE\n",
    "\n",
    "from qiskit import Aer\n",
    "\n",
    "# Plotting functions\n",
    "import matplotlib.pyplot as plt\n",
    "\n",
    "backend = Aer.get_backend('aer_simulator')"
   ]
  },
  {
   "cell_type": "code",
   "execution_count": null,
   "id": "latin-agenda",
   "metadata": {},
   "outputs": [],
   "source": [
    "def callback(eval_count, parameters, mean, std):\n",
    "    callback_dict[\"iters\"].append(eval_count) \n",
    "    callback_dict[\"prev_vector\"] = parameters\n",
    "    callback_dict[\"cost_history\"].append(mean)\n",
    "    current_time = time.perf_counter()\n",
    "    if callback_dict[\"iters\"][-1] > 1:\n",
    "        callback_dict[\"_total_time\"] += current_time - callback_dict[\"_prev_time\"]\n",
    "        callback_dict['iteration_time'].append(current_time - callback_dict[\"_prev_time\"])\n",
    "    callback_dict[\"_prev_time\"] = current_time\n",
    "    time_str = (round(callback_dict[\"_total_time\"] / (callback_dict[\"iters\"][-1] - 1), 2)\n",
    "        if callback_dict[\"_total_time\"]\n",
    "        else \"-\")\n",
    "    print(\"Iters. done: {} [Avg. time per iter: {}]\".format(callback_dict[\"iters\"][-1], time_str),\n",
    "        end=\"\\r\", flush=True,)       "
   ]
  },
  {
   "cell_type": "code",
   "execution_count": null,
   "id": "seven-digest",
   "metadata": {},
   "outputs": [],
   "source": [
    "callback_dict = {\n",
    "    \"prev_vector\": None,\n",
    "    \"iters\": [],\n",
    "    \"cost_history\": [],\n",
    "    'iteration_time': [],\n",
    "    \"_total_time\": 0,\n",
    "    \"_prev_time\": 0,\n",
    "}"
   ]
  },
  {
   "cell_type": "code",
   "execution_count": null,
   "id": "presidential-calendar",
   "metadata": {},
   "outputs": [],
   "source": [
    "molecule = MoleculeInfo(['H','H'],[[0.74, 0.0, 0.0],[0.0, 0.0, 0.0]] , \n",
    "                        multiplicity=1, \n",
    "                        charge=0, \n",
    "                        units=DistanceUnit.ANGSTROM)\n",
    "driver = PySCFDriver.from_molecule(molecule ,basis= '3-21G')\n",
    "system = driver.run()\n",
    "mapper = JordanWignerMapper()\n",
    "algo = NumPyMinimumEigensolver()\n",
    "algo.filter_criterion = system.get_default_filter_criterion()\n",
    "solver = GroundStateEigensolver(mapper, algo)\n",
    "result_classic = solver.solve(system)\n",
    "initial_point = HartreeFock(system.num_spatial_orbitals, system.num_particles, mapper)\n",
    "ansatz = UCCSD(system.num_spatial_orbitals, \n",
    "               system.num_particles,\n",
    "               mapper,\n",
    "               initial_state=initial_point)\n",
    "estimator = Estimator(options={'shots':800})\n",
    "vqe = VQE(ansatz=ansatz, estimator=estimator, optimizer=COBYLA())\n",
    "hamiltonian = mapper.map(system.hamiltonian.second_q_op())\n",
    "vqe_result = vqe.compute_minimum_eigenvalue(operator=hamiltonian)\n",
    "energia_total_vqe = vqe_result.eigenvalue.real+result_classic.nuclear_repulsion_energy"
   ]
  },
  {
   "cell_type": "code",
   "execution_count": null,
   "id": "ready-church",
   "metadata": {},
   "outputs": [],
   "source": [
    "print('O resultado para energia total clássica é {}'.format(result_classic.total_energies[0]))\n",
    "print('O resultado para energia total quantica é {}'.format(energia_total_vqe))\n",
    "difference = (result_classic.total_energies[0]-energia_total_vqe)*2625.5\n",
    "print('A diferença entre os dois pontos é de: ΔE = {} kJ/mol'.format(difference))"
   ]
  }
 ],
 "metadata": {
  "kernelspec": {
   "display_name": "Python 3",
   "language": "python",
   "name": "python3"
  },
  "language_info": {
   "codemirror_mode": {
    "name": "ipython",
    "version": 3
   },
   "file_extension": ".py",
   "mimetype": "text/x-python",
   "name": "python",
   "nbconvert_exporter": "python",
   "pygments_lexer": "ipython3",
   "version": "3.9.2"
  }
 },
 "nbformat": 4,
 "nbformat_minor": 5
}
